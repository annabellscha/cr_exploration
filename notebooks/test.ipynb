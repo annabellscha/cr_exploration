{
 "cells": [
  {
   "cell_type": "code",
   "execution_count": 2,
   "metadata": {},
   "outputs": [],
   "source": [
    "#read shareholders list from csv\n",
    "import pandas as pd\n",
    "df_angels = pd.read_csv('dataframes/shareholders.csv',sep=\";\")"
   ]
  },
  {
   "cell_type": "code",
   "execution_count": 3,
   "metadata": {},
   "outputs": [
    {
     "name": "stdout",
     "output_type": "stream",
     "text": [
      "                                location  counts\n",
      "0                         District Mu- n       1\n",
      "1     Handelsregister des Kantons Zurich       1\n",
      "2                                     LP       5\n",
      "3                   000/ (haftungsbeschr       1\n",
      "4                                      1      14\n",
      "..                                   ...     ...\n",
      "146                            Wiesbaden       2\n",
      "147                            Winningen       1\n",
      "148                            Wuppertal       1\n",
      "149                               Zossen       1\n",
      "150                               Zürich       1\n",
      "\n",
      "[151 rows x 2 columns]\n"
     ]
    },
    {
     "name": "stderr",
     "output_type": "stream",
     "text": [
      "/var/folders/nw/rzxfctl55nj95y0twwbqxrm40000gn/T/ipykernel_26612/3514379267.py:32: FutureWarning: The geopandas.dataset module is deprecated and will be removed in GeoPandas 1.0. You can get the original 'naturalearth_lowres' data from https://www.naturalearthdata.com/downloads/110m-cultural-vectors/.\n",
      "  germany = gpd.read_file(gpd.datasets.get_path('naturalearth_lowres'))[gpd.read_file(gpd.datasets.get_path('naturalearth_lowres'))['name'] == 'Germany']\n",
      "/var/folders/nw/rzxfctl55nj95y0twwbqxrm40000gn/T/ipykernel_26612/3514379267.py:32: FutureWarning: The geopandas.dataset module is deprecated and will be removed in GeoPandas 1.0. You can get the original 'naturalearth_lowres' data from https://www.naturalearthdata.com/downloads/110m-cultural-vectors/.\n",
      "  germany = gpd.read_file(gpd.datasets.get_path('naturalearth_lowres'))[gpd.read_file(gpd.datasets.get_path('naturalearth_lowres'))['name'] == 'Germany']\n"
     ]
    },
    {
     "data": {
      "image/png": "[encoded data removed]",
      "text/plain": [
       "<Figure size 640x480 with 1 Axes>"
      ]
     },
     "metadata": {},
     "output_type": "display_data"
    }
   ],
   "source": [
    "import geopandas as gpd\n",
    "import geopy\n",
    "from geopy.geocoders import Nominatim\n",
    "import matplotlib.pyplot as plt\n",
    "\n",
    "# Initialize the geocoder\n",
    "geolocator = Nominatim(user_agent=\"geoapiExercises\")\n",
    "\n",
    "# Geocode function to get latitude and longitude\n",
    "def geocode(city):\n",
    "    try:\n",
    "        # Geolocate the center of the city\n",
    "        loc = geolocator.geocode(city)\n",
    "        return loc.latitude, loc.longitude\n",
    "    except:\n",
    "        return None\n",
    "    \n",
    "#create df with number of angels per location\n",
    "df_angels = df_angels.groupby(['location']).size().reset_index(name='counts')\n",
    "print(df_angels)\n",
    "#\n",
    "# Apply the geocode function to each city in your DataFrame\n",
    "df_angels['coords'] = df_angels['location'].apply(geocode)\n",
    "\n",
    "# Drop rows with missing coordinates\n",
    "df_angels = df_angels.dropna(subset=['coords'])\n",
    "\n",
    "# Create a GeoDataFrame from your DataFrame\n",
    "gdf = gpd.GeoDataFrame(df_angels, geometry=gpd.points_from_xy(df_angels['coords'].str[1], df_angels['coords'].str[0]))\n",
    "\n",
    "# Read the Germany map\n",
    "germany = gpd.read_file(gpd.datasets.get_path('naturalearth_lowres'))[gpd.read_file(gpd.datasets.get_path('naturalearth_lowres'))['name'] == 'Germany']\n",
    "\n",
    "# Plot the Germany map\n",
    "ax = germany.plot(color='white', edgecolor='black')\n",
    "\n",
    "# Plot the locations on the map\n",
    "gdf.plot(ax=ax, color='red', markersize=20)\n",
    "\n",
    "plt.show()"
   ]
  }
 ],
 "metadata": {
  "kernelspec": {
   "display_name": "Python 3",
   "language": "python",
   "name": "python3"
  },
  "language_info": {
   "codemirror_mode": {
    "name": "ipython",
    "version": 3
   },
   "file_extension": ".py",
   "mimetype": "text/x-python",
   "name": "python",
   "nbconvert_exporter": "python",
   "pygments_lexer": "ipython3",
   "version": "3.11.1"
  }
 },
 "nbformat": 4,
 "nbformat_minor": 2
}
