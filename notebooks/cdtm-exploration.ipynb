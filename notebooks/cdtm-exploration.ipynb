{
 "cells": [
  {
   "cell_type": "code",
   "execution_count": 1,
   "metadata": {},
   "outputs": [],
   "source": [
    "import requests\n"
   ]
  },
  {
   "cell_type": "code",
   "execution_count": 7,
   "metadata": {},
   "outputs": [],
   "source": [
    "# retrieve download link\n",
    "result = requests.post('https://europe-west3-lumpito.cloudfunctions.net/download_files', json={\n",
    "    \"company\": \"Alasco\",\n",
    "    \"company_id\": \"HRB 205171\",\n",
    "    \"documents\": [\"gs\", \"si\"]\n",
    "})"
   ]
  },
  {
   "cell_type": "code",
   "execution_count": 17,
   "metadata": {},
   "outputs": [],
   "source": [
    "response = result.json()\n",
    "\n",
    "# filter python list for document url with type gs\n",
    "gs_doc_url = list(filter(lambda x: x[\"type\"] == \"gs\", response[\"document_urls\"]))[0][\"url\"]\n",
    "\n",
    "# download document\n",
    "gs_doc = requests.get(gs_doc_url)\n",
    "\n",
    "# store document as pdf file in folder output/\n",
    "with open(f\"output/gs-{response['name']}.pdf\", \"wb\") as f:\n",
    "    f.write(gs_doc.content)"
   ]
  },
  {
   "cell_type": "code",
   "execution_count": 20,
   "metadata": {},
   "outputs": [
    {
     "name": "stdout",
     "output_type": "stream",
     "text": [
      "{'#': '1', 'Company_Name': 'BCN Food Tech GmbH', 'Aktenzeichen': 'HRB 272187', 'Date_Incorporation': '2021-12-31', 'CMP_Status': 'A', 'Amtsgericht': 'München', 'Street': 'Pestalozzistraße 34', 'Postcode': 'D-80469', 'City': 'München', 'Industry': 'Lebensmittel', 'WZ2008': '10', 'Startup_Website': '–', 'LinkedIn_URL': '–', 'Crunchbase_URL': '–', 'Northdata_URL': 'https://www.northdata.com/BCN+Food+Tech+GmbH,+M%C3%BCnchen/HRB+272187', 'Comment': '', 'Founding_Team_Size': '1'}\n"
     ]
    }
   ],
   "source": [
    "# load csv list into list of dictionaries\n",
    "import csv\n",
    "\n",
    "with open('startupdetector_founders_v1_MF - Startups.csv', newline='') as csvfile:\n",
    "    reader = csv.DictReader(csvfile, delimiter=',', quotechar='\"')\n",
    "    startup_list = list(reader)\n",
    "\n",
    "print(startup_list[0])\n",
    "\n",
    "startup_list[0][\"Company_Name\"]\n",
    "startup_list[0][\"Aktenzeichen\"]\n",
    "\n"
   ]
  },
  {
   "cell_type": "code",
   "execution_count": null,
   "metadata": {},
   "outputs": [],
   "source": [
    "# retrieve download link\n",
    "result = requests.post('https://europe-west3-lumpito.cloudfunctions.net/download_files', json={\n",
    "    \"company\": startup_list[0][\"Company_Name\"],\n",
    "    \"company_id\": startup_list[0][\"Aktenzeichen\"],\n",
    "    \"documents\": [\"gs\", \"si\"]\n",
    "})\n",
    "\n",
    "response = result.json()\n",
    "\n",
    "# filter python list for document url with type gs\n",
    "gs_doc_url = list(filter(lambda x: x[\"type\"] == \"gs\", response[\"document_urls\"]))[0][\"url\"]\n",
    "\n",
    "# download document\n",
    "gs_doc = requests.get(gs_doc_url)\n",
    "\n",
    "# store document as pdf file in folder output/\n",
    "with open(f\"output/gs-{response['name']}.pdf\", \"wb\") as f:\n",
    "    f.write(gs_doc.content)"
   ]
  }
 ],
 "metadata": {
  "kernelspec": {
   "display_name": ".venv",
   "language": "python",
   "name": "python3"
  },
  "language_info": {
   "codemirror_mode": {
    "name": "ipython",
    "version": 3
   },
   "file_extension": ".py",
   "mimetype": "text/x-python",
   "name": "python",
   "nbconvert_exporter": "python",
   "pygments_lexer": "ipython3",
   "version": "3.11.4"
  },
  "orig_nbformat": 4
 },
 "nbformat": 4,
 "nbformat_minor": 2
}
