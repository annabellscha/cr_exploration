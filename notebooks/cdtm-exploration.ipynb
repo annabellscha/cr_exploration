{
 "cells": [
  {
   "cell_type": "code",
   "execution_count": 1,
   "metadata": {},
   "outputs": [],
   "source": [
    "import requests\n"
   ]
  },
  {
   "cell_type": "code",
   "execution_count": 7,
   "metadata": {},
   "outputs": [],
   "source": [
    "# retrieve download link\n",
    "result = requests.post('https://europe-west3-lumpito.cloudfunctions.net/download_files', json={\n",
    "    \"company\": \"Alasco\",\n",
    "    \"company_id\": \"HRB 205171\",\n",
    "    \"documents\": [\"gs\", \"si\"]\n",
    "})"
   ]
  },
  {
   "cell_type": "code",
   "execution_count": 17,
   "metadata": {},
   "outputs": [],
   "source": [
    "response = result.json()\n",
    "\n",
    "# filter python list for document url with type gs\n",
    "gs_doc_url = list(filter(lambda x: x[\"type\"] == \"gs\", response[\"document_urls\"]))[0][\"url\"]\n",
    "\n",
    "# download document\n",
    "gs_doc = requests.get(gs_doc_url)\n",
    "\n",
    "# store document as pdf file in folder output/\n",
    "with open(f\"output/gs-{response['name']}.pdf\", \"wb\") as f:\n",
    "    f.write(gs_doc.content)"
   ]
  },
  {
   "cell_type": "code",
   "execution_count": null,
   "metadata": {},
   "outputs": [],
   "source": []
  }
 ],
 "metadata": {
  "kernelspec": {
   "display_name": ".venv",
   "language": "python",
   "name": "python3"
  },
  "language_info": {
   "codemirror_mode": {
    "name": "ipython",
    "version": 3
   },
   "file_extension": ".py",
   "mimetype": "text/x-python",
   "name": "python",
   "nbconvert_exporter": "python",
   "pygments_lexer": "ipython3",
   "version": "3.11.4"
  },
  "orig_nbformat": 4
 },
 "nbformat": 4,
 "nbformat_minor": 2
}
