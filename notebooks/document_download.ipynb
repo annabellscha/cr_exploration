{
 "cells": [
  {
   "cell_type": "code",
   "execution_count": 6,
   "metadata": {},
   "outputs": [],
   "source": [
    "import mechanicalsoup\n",
    "import requests\n",
    "import logging\n",
    "\n",
    "logging.getLogger().setLevel(logging.DEBUG)\n",
    "requests_log = logging.getLogger(\"requests.packages.urllib3\")\n",
    "requests_log.setLevel(logging.DEBUG)\n",
    "requests_log.propagate = True"
   ]
  },
  {
   "cell_type": "code",
   "execution_count": 11,
   "metadata": {},
   "outputs": [],
   "source": [
    "class CommercialRegisterRetriever:\n",
    "    def __init__(self, session_id: str = None, company_name: str = None):\n",
    "        retriever.browser.browser.browser.browser = mechanicalsoup.StatefulBrowser(user_agent='Chrome')\n",
    "\n",
    "        if session_id is None:\n",
    "            retriever.browser.open(\"https://www.unternehmensregister.de/ureg/index.html\")\n",
    "            url = retriever.browser.page.select(\"ul.service__list li a\")[0].attrs[\"href\"]\n",
    "            retriever.session_id = url.split(\";\")[1].split(\"?\")[0]\n",
    "       \n",
    "        retriever.company = {}\n",
    "        retriever.gs_date = \"\"\n",
    "        retriever.gs_file_name = \"\"\n",
    "\n",
    "    def search(self, company_name: str):\n",
    "        # Fill-in the search form\n",
    "        retriever.browser.select_form('#globalSearchForm')\n",
    "        retriever.browser[\"globalSearchForm:extendedResearchCompanyName\"] = company_name\n",
    "        retriever.browser[\"submitaction\"] = \"searchRegisterData\"\n",
    "        retriever.browser.submit_selected(btnName=\"globalSearchForm:btnExecuteSearchOld\")\n",
    "\n",
    "        # retriever.browser.open(\n",
    "        #     \"https://www.unternehmensregister.de/ureg/search1.1.html;{}\".format(\n",
    "        #         retriever.session_id))\n",
    "        # retriever.browser.select_form(\"#searchRegisterForm\")\n",
    "        # retriever.browser[\"searchRegisterForm:extendedResearchCompanyName\"] = company_name\n",
    "        # retriever.browser[\"searchRegisterForm:extendedResearchRegisterNumber\"] = company_id\n",
    "        # # retriever.browser[\"searchRegisterForm:extendedResearchStartDate\"] = \"01.01.2014\"\n",
    "\n",
    "        # retriever.browser[\"submitaction\"] = \"searchExtendedResearch\"\n",
    "        # retriever.browser.submit_selected()\n",
    "\n",
    "        # page = retriever.browser.page\n",
    "        # # select first company in the list\n",
    "        # links = retriever.browser.page.find_all('a', href=lambda href: href and 'registerPortalAdvice.html' in href)\n",
    "        # retriever.browser.open_relative(links[0].attrs[\"href\"])\n",
    "        \n",
    "\n",
    "        # open the search results\n",
    "        retriever.browser.open_relative(retriever.browser.page.select(\"div.right a\")[0].attrs[\"href\"])\n",
    "\n",
    "        # retrieve all companies in a list\n",
    "        companies = []\n",
    "\n",
    "        # get si links\n",
    "        si = retriever.browser.page.select(\".reglink[id*='SI']\")\n",
    "\n",
    "        # get company information\n",
    "        results_page = retriever.browser.page\n",
    "        results = results_page.find(\"tbody\").find_all(\"tr\", attrs={\"class\": None})\n",
    "\n",
    "        for i in range(0, len(results), 2):\n",
    "            company = {}\n",
    "            company[\"court_city\"] = results[i].find(\"td\", attrs={\"class\": \"RegPortErg_AZ\"}).text.split(\"\\n\")[0]\n",
    "            company[\"court\"] = results[i].find(\"td\", attrs={\"class\": \"RegPortErg_AZ\"}).text.split(\"\\xa0\")[2].strip()\n",
    "            company[\"id\"] = results[i].find(\"td\", attrs={\"class\": \"RegPortErg_AZ\"}).text.split(\"\\xa0\")[3].strip() + \" \" + results[i].find(\"td\", attrs={\"class\": \"RegPortErg_AZ\"}).text.split(\"\\xa0\")[4].strip() \n",
    "            company[\"name\"] = results[i+1].find(\"td\", attrs={\"class\": \"RegPortErg_FirmaKopf\"}).text.strip()\n",
    "            company[\"city\"] = results[i+1].find(\"td\", attrs={\"class\": \"RegPortErg_SitzStatusKopf\"}).text.strip()\n",
    "            company[\"status\"] = results[i+1].findAll(\"td\", attrs={\"class\": \"RegPortErg_SitzStatusKopf\"})[1].text.strip()\n",
    "            company[\"search_index\"] = int(i/2)\n",
    "            company[\"document_urls\"] = {\"si\": \"https://www.unternehmensregister.de/ureg/registerPortal.html;{}{}\".format(retriever.session_id, si[int(i/2)].attrs[\"href\"]),}\n",
    "\n",
    "            companies.append(company)\n",
    "            i+=1\n",
    "            \n",
    "        return companies\n",
    "        "
   ]
  },
  {
   "cell_type": "code",
   "execution_count": 12,
   "metadata": {},
   "outputs": [],
   "source": [
    "retriever = CommercialRegisterRetriever()"
   ]
  },
  {
   "cell_type": "code",
   "execution_count": 13,
   "metadata": {},
   "outputs": [],
   "source": [
    "result = retriever.search(\"tanso\")"
   ]
  },
  {
   "cell_type": "code",
   "execution_count": 15,
   "metadata": {},
   "outputs": [
    {
     "data": {
      "text/plain": [
       "[{'court_city': 'Bayern',\n",
       "  'court': 'München',\n",
       "  'id': 'HRB 269123',\n",
       "  'name': 'Tanso Technologies GmbH',\n",
       "  'city': 'München',\n",
       "  'status': 'Aktuell',\n",
       "  'search_index': 0,\n",
       "  'document_urls': {'si': 'https://www.unternehmensregister.de/ureg/registerPortal.html;jsessionid=9647EC9778637BD3D82EB7EFFA09F205.web04-1?submitaction=check4duplicate&iddok=null&ausdruckart=SI&gkz=D2601&gkzalt=&rtype=HRB&rnr=269123&cname=Tanso+Technologies+GmbH&state=2&location=&uniqueid=1689541875694&searchIdx=0'}}]"
      ]
     },
     "execution_count": 15,
     "metadata": {},
     "output_type": "execute_result"
    }
   ],
   "source": [
    "result"
   ]
  },
  {
   "cell_type": "code",
   "execution_count": 17,
   "metadata": {},
   "outputs": [
    {
     "data": {
      "text/plain": [
       "<Response [200]>"
      ]
     },
     "execution_count": 17,
     "metadata": {},
     "output_type": "execute_result"
    }
   ],
   "source": [
    "# Open document tree\n",
    "index = result[0][\"search_index\"]\n",
    "retriever.browser.open(\n",
    "            \"https://www.unternehmensregister.de/ureg/registerPortal.html;{}?submitaction=showDkTree&searchIdx={}\".format(\n",
    "                retriever.session_id, index))\n"
   ]
  },
  {
   "cell_type": "code",
   "execution_count": 20,
   "metadata": {},
   "outputs": [],
   "source": [
    "elements = retriever.browser.page.select(\"div.dktree-container.level-{} span a\".format(2))"
   ]
  },
  {
   "cell_type": "code",
   "execution_count": 56,
   "metadata": {},
   "outputs": [
    {
     "name": "stdout",
     "output_type": "stream",
     "text": [
      "5\n",
      "2\n",
      "[<a href=\"?submitaction=showDkTree&amp;action=select&amp;addedId=N__0_0&amp;searchIdx=0\">Dokumente zur Registernummer</a>]\n",
      "3\n",
      "[<a href=\"?submitaction=showDkTree&amp;action=select&amp;addedId=N__0_0_0&amp;searchIdx=0\">Gesellschaftsvertrag / Satzung / Statut</a>, <a href=\"?submitaction=showDkTree&amp;action=select&amp;addedId=N__0_0_1&amp;searchIdx=0\">Liste der Gesellschafter</a>, <a href=\"?submitaction=showDkTree&amp;action=select&amp;addedId=N__0_0_2&amp;searchIdx=0\">Weitere Urkunden / Unterlagen</a>, <a href=\"?submitaction=showDkTree&amp;action=select&amp;addedId=N__0_0_3&amp;searchIdx=0\">Anzeige nach Eintragung</a>, <a href=\"?submitaction=showDkTree&amp;action=select&amp;addedId=N__0_0_4&amp;searchIdx=0\">Anzeige nach Eingang</a>]\n",
      "Weitere Urkunden / Unterlagen\n",
      "4\n",
      "[<a href=\"?submitaction=showDkTree&amp;action=select&amp;addedId=N__0_0_0_0&amp;searchIdx=0\">Gesellschaftsvertrag / Satzung / Statut vom 21.04.2023</a>, <a href=\"?submitaction=showDkTree&amp;action=select&amp;addedId=N__0_0_0_1&amp;searchIdx=0\">Gesellschaftsvertrag / Satzung / Statut vom 20.09.2021</a>, <a href=\"?submitaction=showDkTree&amp;action=select&amp;addedId=N__0_0_0_2&amp;searchIdx=0\">Gesellschaftsvertrag / Satzung / Statut vom 09.08.2021</a>, <a href=\"?submitaction=showDkTree&amp;action=select&amp;addedId=N__0_0_2_0&amp;searchIdx=0\">Anmeldung</a>, <a href=\"?submitaction=showDkTree&amp;action=select&amp;addedId=N__0_0_2_1&amp;searchIdx=0\">Liste der Übernehmer</a>, <a href=\"?submitaction=showDkTree&amp;action=select&amp;addedId=N__0_0_2_2&amp;searchIdx=0\">Protokoll / Beschluss / Niederschrift</a>, <a href=\"?submitaction=showDkTree&amp;action=select&amp;addedId=N__0_0_2_3&amp;searchIdx=0\">Sonstige Urkunde / Unterlage</a>, <a href=\"?submitaction=showDkTree&amp;action=select&amp;addedId=N__0_0_2_4&amp;searchIdx=0\">Übernahmeerklärung</a>]\n",
      "Anmeldung\n"
     ]
    }
   ],
   "source": [
    "def filter_and_follow_link(elements, keyword):\n",
    "    filtered_elements = list(filter(lambda x: keyword in x.string, elements))\n",
    "    if filtered_elements:\n",
    "        retriever.browser.follow_link(filtered_elements[0])\n",
    "    else:\n",
    "        print(\"not found\")\n",
    "\n",
    "def retrieve_documents(path):\n",
    "    no_iterations = len(path) + 3\n",
    "    selector = \"div.dktree-container.level-{} span a\"\n",
    "    for level in range(2, no_iterations):\n",
    "        elements = retriever.browser.page.select(selector.format(level))\n",
    "        print(elements)\n",
    "\n",
    "        if len(elements) == 0:\n",
    "            raise Exception(\"no documents found\")\n",
    "        elif len(elements) == 1:\n",
    "            retriever.browser.open_relative(elements[0].attrs[\"href\"])\n",
    "\n",
    "        if level > 2:\n",
    "            filter_and_follow_link(elements, keyword=path[level-3])\n",
    "\n",
    "        level += 1\n",
    "    \n",
    "    return retriever.browser.page.select(selector.format(level))\n",
    "\n",
    "path = [\"Weitere Urkunden / Unterlagen\", \"Anmeldung\"]\n",
    "results = retrieve_documents(path)"
   ]
  },
  {
   "cell_type": "code",
   "execution_count": 57,
   "metadata": {},
   "outputs": [
    {
     "data": {
      "text/plain": [
       "[<a href=\"?submitaction=showDkTree&amp;action=select&amp;addedId=N__0_0_2_0_0&amp;searchIdx=0\">Anmeldung vom 11.04.2023</a>,\n",
       " <a href=\"?submitaction=showDkTree&amp;action=select&amp;addedId=N__0_0_2_0_1&amp;searchIdx=0\">Anmeldung vom 03.04.2023</a>,\n",
       " <a href=\"?submitaction=showDkTree&amp;action=select&amp;addedId=N__0_0_2_0_2&amp;searchIdx=0\">Anmeldung vom 10.11.2022</a>,\n",
       " <a href=\"?submitaction=showDkTree&amp;action=select&amp;addedId=N__0_0_2_0_3&amp;searchIdx=0\">Anmeldung vom 20.09.2021</a>,\n",
       " <a href=\"?submitaction=showDkTree&amp;action=select&amp;addedId=N__0_0_2_0_4&amp;searchIdx=0\">Anmeldung vom 09.08.2021</a>]"
      ]
     },
     "execution_count": 57,
     "metadata": {},
     "output_type": "execute_result"
    }
   ],
   "source": [
    "results"
   ]
  },
  {
   "cell_type": "code",
   "execution_count": 64,
   "metadata": {},
   "outputs": [
    {
     "name": "stdout",
     "output_type": "stream",
     "text": [
      "<a href=\"?submitaction=showDkTree&amp;action=select&amp;addedId=N__0_0_2_0_4&amp;searchIdx=0\">Anmeldung vom 09.08.2021</a>\n"
     ]
    }
   ],
   "source": [
    "from datetime import datetime\n",
    "import re\n",
    "\n",
    "pattern = r\"\\b(\\d{2}\\.\\d{2}\\.\\d{4})\\b\"\n",
    "\n",
    "# Function to extract the date from the element using regex\n",
    "def extract_date(element):\n",
    "    match = re.search(pattern, element.text)\n",
    "    if match:\n",
    "        date_string = match.group(1)\n",
    "        return datetime.strptime(date_string, \"%d.%m.%Y\")\n",
    "\n",
    "# Find the oldest document\n",
    "oldest_document = min(results, key=extract_date)\n",
    "\n",
    "print(oldest_document)"
   ]
  },
  {
   "cell_type": "code",
   "execution_count": 63,
   "metadata": {},
   "outputs": [
    {
     "name": "stdout",
     "output_type": "stream",
     "text": [
      "2023-04-11 00:00:00\n"
     ]
    }
   ],
   "source": [
    "import re\n",
    "from datetime import datetime\n",
    "\n",
    "# Example string\n",
    "text = \"This is an example string with a date 14.07.2023 in the format %d.%m.%Y.\"\n",
    "\n",
    "# Regular expression pattern to find a date in the format \"%d.%m.%Y\"\n",
    "pattern = r\"\\b(\\d{2}\\.\\d{2}\\.\\d{4})\\b\"\n",
    "\n",
    "# Find the date using regex\n",
    "match = re.search(pattern, results[0].text)\n",
    "\n",
    "if match:\n",
    "    date_string = match.group(1)\n",
    "    date = datetime.strptime(date_string, \"%d.%m.%Y\")\n",
    "    print(date)\n",
    "else:\n",
    "    print(\"No date found.\")\n"
   ]
  },
  {
   "cell_type": "code",
   "execution_count": 65,
   "metadata": {},
   "outputs": [
    {
     "ename": "IndexError",
     "evalue": "list index out of range",
     "output_type": "error",
     "traceback": [
      "\u001b[0;31m---------------------------------------------------------------------------\u001b[0m",
      "\u001b[0;31mIndexError\u001b[0m                                Traceback (most recent call last)",
      "Cell \u001b[0;32mIn[65], line 1\u001b[0m\n\u001b[0;32m----> 1\u001b[0m file_format \u001b[39m=\u001b[39m [x\u001b[39m.\u001b[39;49mattrs[\u001b[39m\"\u001b[39;49m\u001b[39mvalue\u001b[39;49m\u001b[39m\"\u001b[39;49m] \u001b[39mfor\u001b[39;49;00m x \u001b[39min\u001b[39;49;00m retriever\u001b[39m.\u001b[39;49mbrowser\u001b[39m.\u001b[39;49mpage\u001b[39m.\u001b[39;49mselect(\u001b[39m\"\u001b[39;49m\u001b[39minput#format_orig\u001b[39;49m\u001b[39m\"\u001b[39;49m)][\u001b[39m0\u001b[39;49m]\n\u001b[1;32m      2\u001b[0m retriever\u001b[39m.\u001b[39mbrowser\u001b[39m.\u001b[39mselect_form(\u001b[39m\"\u001b[39m\u001b[39m#dkform\u001b[39m\u001b[39m\"\u001b[39m)\n\u001b[1;32m      3\u001b[0m retriever\u001b[39m.\u001b[39mbrowser[\u001b[39m\"\u001b[39m\u001b[39mformat\u001b[39m\u001b[39m\"\u001b[39m] \u001b[39m=\u001b[39m file_format\n",
      "\u001b[0;31mIndexError\u001b[0m: list index out of range"
     ]
    }
   ],
   "source": [
    "file_format = [x.attrs[\"value\"] for x in retriever.browser.page.select(\"input#format_orig\")][0]\n",
    "retriever.browser.select_form(\"#dkform\")\n",
    "retriever.browser[\"format\"] = file_format\n",
    "retriever.browser.submit_selected(\"add2cart\")"
   ]
  },
  {
   "cell_type": "code",
   "execution_count": null,
   "metadata": {},
   "outputs": [],
   "source": []
  }
 ],
 "metadata": {
  "kernelspec": {
   "display_name": ".venv",
   "language": "python",
   "name": "python3"
  },
  "language_info": {
   "codemirror_mode": {
    "name": "ipython",
    "version": 3
   },
   "file_extension": ".py",
   "mimetype": "text/x-python",
   "name": "python",
   "nbconvert_exporter": "python",
   "pygments_lexer": "ipython3",
   "version": "3.11.4"
  },
  "orig_nbformat": 4
 },
 "nbformat": 4,
 "nbformat_minor": 2
}
