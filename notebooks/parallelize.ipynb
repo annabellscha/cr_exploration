{
 "cells": [
  {
   "cell_type": "code",
   "execution_count": 1,
   "metadata": {},
   "outputs": [
    {
     "name": "stdout",
     "output_type": "stream",
     "text": [
      "Company ID 8: Function 1 failed\n",
      "Company ID 1: Function 1 failed\n",
      "Company ID 5: Function 1 failed\n",
      "Company ID 7: Function 1 failed\n",
      "Company ID 6: Function 1 failed\n",
      "Company ID 2: Function 1 failed\n",
      "Company ID 4: Function 1 failed\n",
      "Company ID 3: Function 1 failed\n"
     ]
    }
   ],
   "source": [
    "import requests\n",
    "from concurrent.futures import ThreadPoolExecutor, as_completed\n",
    "\n",
    "# Assuming the functions are HTTP endpoints\n",
    "function1_url = 'https://europe-west3-lumpito.cloudfunctions.net/download_files'\n",
    "function2_url = 'https://europe-west3-lumpito.cloudfunctions.net/extract_table'\n",
    "function3_url = 'https://europe-west3-lumpito.cloudfunctions.net/standardize_data'\n",
    "company_ids = [1,2,3,4,5,6,7,8]  # Your list of 14,000 company_ids\n",
    "\n",
    "def call_function_in_sequence(company_id):\n",
    "    session = requests.Session()  # Reuse connections within the function\n",
    "    json={\"company_id\": company_id}\n",
    "    # First function call\n",
    "    response1 = session.post(function1_url, json=json)\n",
    "    if response1.status_code != 200:\n",
    "        return company_id, False, 'Function 1 failed'\n",
    "\n",
    "    # Second function call\n",
    "    response2 = session.post(function2_url, json=json)\n",
    "    if response2.status_code != 200:\n",
    "        return company_id, False, 'Function 2 failed'\n",
    "\n",
    "    # Third function call\n",
    "    response3 = session.post(function3_url, json=json)\n",
    "    if response3.status_code != 200:\n",
    "        return company_id, False, 'Function 3 failed'\n",
    "\n",
    "    return company_id, True, 'Success'\n",
    "\n",
    "# The number of workers can be adjusted based on your system and network capabilities\n",
    "workers = 10 \n",
    "\n",
    "with ThreadPoolExecutor(max_workers=workers) as executor:\n",
    "    # Dictionary to keep track of futures for each company_id\n",
    "    future_to_company_id = {executor.submit(call_function_in_sequence, cid): cid for cid in company_ids}\n",
    "\n",
    "    for future in as_completed(future_to_company_id):\n",
    "        company_id = future_to_company_id[future]\n",
    "        try:\n",
    "            _, success, message = future.result()\n",
    "            if success:\n",
    "                print(f\"Company ID {company_id}: All functions succeeded\")\n",
    "            else:\n",
    "                print(f\"Company ID {company_id}: {message}\")\n",
    "        except Exception as exc:\n",
    "            print(f\"Company ID {company_id} generated an exception: {exc}\")"
   ]
  },
  {
   "cell_type": "code",
   "execution_count": 3,
   "metadata": {},
   "outputs": [
    {
     "name": "stdout",
     "output_type": "stream",
     "text": [
      "Bad Request: Please provide a company name and document types\n"
     ]
    }
   ],
   "source": [
    "session = requests.Session() \n",
    "json={\"company_id\": company_id}\n",
    "function1_url = 'https://europe-west3-lumpito.cloudfunctions.net/download_files'\n",
    "response1 = session.post(function1_url, json=json)\n",
    "print(response1.text)"
   ]
  }
 ],
 "metadata": {
  "kernelspec": {
   "display_name": "Python 3",
   "language": "python",
   "name": "python3"
  },
  "language_info": {
   "codemirror_mode": {
    "name": "ipython",
    "version": 3
   },
   "file_extension": ".py",
   "mimetype": "text/x-python",
   "name": "python",
   "nbconvert_exporter": "python",
   "pygments_lexer": "ipython3",
   "version": "3.11.1"
  }
 },
 "nbformat": 4,
 "nbformat_minor": 2
}
