{
 "cells": [
  {
   "cell_type": "code",
   "execution_count": 51,
   "metadata": {},
   "outputs": [
    {
     "name": "stdout",
     "output_type": "stream",
     "text": [
      "Company ID 44: Function 1 failed\n",
      "Company ID 90: Function 1 failed\n",
      "Company ID 23: Function 1 failed\n",
      "Company ID 37: Function 1 failed\n",
      "Company ID 14: Function 1 failed\n",
      "Company ID 47: Function 1 failed\n",
      "Company ID 21: Function 1 failed\n",
      "Company ID 20: Function 1 failed\n",
      "Company ID 122: Function 1 failed\n",
      "Company ID 30: Function 1 failed\n",
      "Company ID 151: Function 1 failed\n",
      "Company ID 124: Function 1 failed\n",
      "Company ID 158: Function 1 failed\n",
      "Company ID 175: Function 1 failed\n",
      "Company ID 177: Function 1 failed\n",
      "Company ID 181: Function 1 failed\n",
      "Company ID 153: Function 1 failed\n",
      "Company ID 188: Function 1 failed\n",
      "Company ID 176: Function 1 failed\n",
      "Company ID 154: Function 1 failed\n",
      "Company ID 190: Function 1 failed\n",
      "Company ID 134: Function 1 failed\n",
      "Company ID 91: Function 1 failed\n",
      "Company ID 38: Function 2 failed\n",
      "Company ID 195: Function 1 failed\n"
     ]
    }
   ],
   "source": [
    "import requests\n",
    "from concurrent.futures import ThreadPoolExecutor, as_completed\n",
    "\n",
    "# Assuming the functions are HTTP endpoints\n",
    "function1_url = 'https://europe-west3-lumpito.cloudfunctions.net/download_files'\n",
    "function2_url = 'https://europe-west3-lumpito.cloudfunctions.net/extract_table'\n",
    "function3_url = 'https://europe-west3-lumpito.cloudfunctions.net/standardize_data'\n",
    "#numbers 9 to 100 in the company_ids list\n",
    "\n",
    "company_ids =[14, 20, 21, 23, 30, 37, 38, 44, 47, 90, 91, 122, 124, 134, 151, 153, 154, 158, 175, 176, 177, 181, 188, 190, 195]\n",
    "import time\n",
    "\n",
    "# Constants for retry policy\n",
    "MAX_RETRIES = 3\n",
    "BACKOFF_FACTOR = 1.5\n",
    "\n",
    "def call_function(url, json, session):\n",
    "    for attempt in range(MAX_RETRIES):\n",
    "        response = session.post(url, json=json)\n",
    "        if response.status_code == 200:\n",
    "            return response.json()  # Assuming the function returns JSON\n",
    "        else:\n",
    "            time.sleep(BACKOFF_FACTOR ** attempt)  # Exponential backoff\n",
    "    return None  # All retries failed\n",
    "\n",
    "def call_function_in_sequence(company_id):\n",
    "    session = requests.Session()  # Reuse connections within the function\n",
    "    json_data = {\"company_id\": company_id}\n",
    "    json_one = {\"company_id\": company_id, \"documents\": \"gs\"}\n",
    "\n",
    "    # First function call with retry\n",
    "    result1 = call_function(function1_url, json_one, session)\n",
    "    if not result1:\n",
    "        return company_id, False, 'Function 1 failed'\n",
    "\n",
    "    # Second function call with retry\n",
    "    result2 = call_function(function2_url, json_data, session)\n",
    "    if not result2:\n",
    "        return company_id, False, 'Function 2 failed'\n",
    "\n",
    "    # Third function call with retry\n",
    "    result3 = call_function(function3_url, json_data, session)\n",
    "    if not result3:\n",
    "        return company_id, False, 'Function 3 failed'\n",
    "\n",
    "    return company_id, True, 'Success'\n",
    "\n",
    "# The rest of your code remains the same\n",
    "\n",
    "# The number of workers can be adjusted based on your system and network capabilities\n",
    "workers = 15 \n",
    "\n",
    "with ThreadPoolExecutor(max_workers=workers) as executor:\n",
    "    # Dictionary to keep track of futures for each company_id\n",
    "    future_to_company_id = {executor.submit(call_function_in_sequence, cid): cid for cid in company_ids}\n",
    "\n",
    "    for future in as_completed(future_to_company_id):\n",
    "        company_id = future_to_company_id[future]\n",
    "        try:\n",
    "            _, success, message = future.result()\n",
    "            if success:\n",
    "                print(f\"Company ID {company_id}: All functions succeeded\")\n",
    "            else:\n",
    "                print(f\"Company ID {company_id}: {message}\")\n",
    "        except Exception as exc:\n",
    "            print(f\"Company ID {company_id} generated an exception: {exc}\")"
   ]
  },
  {
   "cell_type": "code",
   "execution_count": 71,
   "metadata": {},
   "outputs": [
    {
     "name": "stdout",
     "output_type": "stream",
     "text": [
      "500 Internal Server Error: The server encountered an internal error and was unable to complete your request. Either the server is overloaded or there is an error in the application.\n"
     ]
    }
   ],
   "source": [
    "session = requests.Session() \n",
    "json={\"company_id\": 181, \"documents\": \"gs\"}\n",
    "# json={\"company_id\": 24}\n",
    "function1_url = 'https://europe-west3-lumpito.cloudfunctions.net/download_files'\n",
    "response1 = session.post(function1_url, json=json)\n",
    "# function1_url = 'https://europe-west3-lumpito.cloudfunctions.net/standardize_data'\n",
    "# response1 = session.post(function1_url, json=json)\n",
    "print(response1.text)"
   ]
  }
 ],
 "metadata": {
  "kernelspec": {
   "display_name": "Python 3",
   "language": "python",
   "name": "python3"
  },
  "language_info": {
   "codemirror_mode": {
    "name": "ipython",
    "version": 3
   },
   "file_extension": ".py",
   "mimetype": "text/x-python",
   "name": "python",
   "nbconvert_exporter": "python",
   "pygments_lexer": "ipython3",
   "version": "3.11.1"
  }
 },
 "nbformat": 4,
 "nbformat_minor": 2
}
