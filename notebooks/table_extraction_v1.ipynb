{
 "cells": [
  {
   "cell_type": "markdown",
   "metadata": {},
   "source": [
    "# Turn Handelsregister PDF's into tables\n",
    "## 1. Load PDF files"
   ]
  },
  {
   "cell_type": "code",
   "execution_count": 1,
   "metadata": {},
   "outputs": [],
   "source": [
    "import os"
   ]
  },
  {
   "cell_type": "code",
   "execution_count": 2,
   "metadata": {},
   "outputs": [],
   "source": [
    "directory = '../scraped_pdfs'\n",
    "pdf_files = []\n",
    "\n",
    "# Walk through the directory\n",
    "for root, dirs, files in os.walk(directory):\n",
    "    # Find all PDF files in current directory and add to the list\n",
    "    for file in files:\n",
    "        if file.lower().endswith(\".pdf\"):\n",
    "            pdf_files.append(os.path.join(root, file))"
   ]
  },
  {
   "cell_type": "code",
   "execution_count": 3,
   "metadata": {},
   "outputs": [
    {
     "name": "stdout",
     "output_type": "stream",
     "text": [
      "Liste der Gesellschafter - Aufnahme in den Registerordner am 17.12.2021-HappieHaus Wellbeing GmbH.pdf\n"
     ]
    }
   ],
   "source": [
    "# take the first file\n",
    "file = pdf_files[0]\n",
    "print(file.split('/')[-1])"
   ]
  },
  {
   "cell_type": "markdown",
   "metadata": {},
   "source": [
    "## 2. Turn PDF into Images & OCR"
   ]
  },
  {
   "cell_type": "code",
   "execution_count": 4,
   "metadata": {},
   "outputs": [],
   "source": [
    "from PIL import Image\n",
    "from pdf2image import convert_from_path, convert_from_bytes\n",
    "import pandas as pd\n",
    "import cv2\n",
    "import numpy as np\n",
    "import pytesseract\n",
    "from pytesseract import Output"
   ]
  },
  {
   "cell_type": "code",
   "execution_count": 5,
   "metadata": {},
   "outputs": [],
   "source": [
    "def correct_orientation(image):\n",
    "    try:\n",
    "        # Use pytesseract to detect orientation and script detection (OSD)\n",
    "        osd = pytesseract.image_to_osd(image, output_type=Output.DICT)\n",
    "        # Rotate the image based on the angle suggested by the OSD\n",
    "        # The angle is given in degrees counterclockwise, we need to negate it for PIL rotation\n",
    "        rotation_angle = -osd['rotate']\n",
    "        if rotation_angle != 0:\n",
    "            corrected_image = image.rotate(rotation_angle, expand=True)\n",
    "            return corrected_image\n",
    "        else:\n",
    "            return image\n",
    "    except pytesseract.TesseractError as e:\n",
    "        print(f\"An error occurred during orientation detection: {e}\")\n",
    "        return image\n",
    "\n",
    "def pdf_to_text(pdf_path):\n",
    "    # Convert PDF to a list of images\n",
    "    images = convert_from_path(pdf_path)\n",
    "\n",
    "    text_content = []\n",
    "\n",
    "    for i, image in enumerate(images):\n",
    "        # Correct orientation of the image if necessary\n",
    "        corrected_image = correct_orientation(image)\n",
    "\n",
    "        # Use PyTesseract to do OCR on the corrected image\n",
    "        text = pytesseract.image_to_string(corrected_image)\n",
    "\n",
    "        # Append the text to the list\n",
    "        text_content.append(text)\n",
    "\n",
    "    return text_content"
   ]
  },
  {
   "cell_type": "code",
   "execution_count": 6,
   "metadata": {},
   "outputs": [],
   "source": [
    "extracted_text = pdf_to_text(file)"
   ]
  },
  {
   "cell_type": "markdown",
   "metadata": {},
   "source": [
    "## Send it to OpenAI"
   ]
  },
  {
   "cell_type": "code",
   "execution_count": 7,
   "metadata": {},
   "outputs": [
    {
     "data": {
      "text/plain": [
       "['Liste der Gesellschafter\\n\\nder HappieHaus Wellbeing GmbH mit Sitz in Berlin\\n\\n(Reg.-Nr. HRB neu, Amtsgericht Charlottenburg)\\n\\nHappie Haus UG AG Charlottenburg\\n(haftungsbeschrankt) | HRB 233422 B\\n\\n3H Ventures UG AG Charlottenburg\\n(haftungsbeschrankt) | HRB 236167 B\\n\\nBerlin, den 30.11.2021\\n\\nStephanie Neumann\\n\\n17.501 bis 25.000\\n\\nGesamtumfang der\\nBeteiligung des\\nGesellschafters am\\nStammkapital in %\\n\\nje 1,00 EUR; dies\\nentspricht fir jeden\\nGeschaftsanteil 0,004 %\\nam Stammkapital der\\nGesellschaft\\n\\nje 1,00 EUR; dies\\nentspricht fir jeden\\nGeschéaftsanteil 0,004 %\\nam Stammkapital der\\nGesellschaft\\n\\n',\n",
       " 'Hiermit beglaubige ich die Ubereinstimmung der in dieser Datei enthaltenen Bilddaten (Abschrift) mit\\n\\ndem mir vorliegenden Papierdokument (PDF-Ausdruck).\\n\\nBerlin, 10.12.2021\\n\\nKlaus Bienmiller, Notar\\n']"
      ]
     },
     "execution_count": 7,
     "metadata": {},
     "output_type": "execute_result"
    }
   ],
   "source": [
    "extracted_text"
   ]
  },
  {
   "cell_type": "code",
   "execution_count": null,
   "metadata": {},
   "outputs": [],
   "source": []
  }
 ],
 "metadata": {
  "kernelspec": {
   "display_name": ".venv",
   "language": "python",
   "name": "python3"
  },
  "language_info": {
   "codemirror_mode": {
    "name": "ipython",
    "version": 3
   },
   "file_extension": ".py",
   "mimetype": "text/x-python",
   "name": "python",
   "nbconvert_exporter": "python",
   "pygments_lexer": "ipython3",
   "version": "3.11.6"
  }
 },
 "nbformat": 4,
 "nbformat_minor": 2
}
